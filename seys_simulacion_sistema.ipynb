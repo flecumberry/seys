{
  "nbformat": 4,
  "nbformat_minor": 0,
  "metadata": {
    "colab": {
      "name": "seys_simulacion_sistema.ipynb",
      "version": "0.3.2",
      "provenance": [],
      "collapsed_sections": [],
      "include_colab_link": true
    },
    "kernelspec": {
      "name": "python3",
      "display_name": "Python 3"
    }
  },
  "cells": [
    {
      "cell_type": "markdown",
      "metadata": {
        "id": "view-in-github",
        "colab_type": "text"
      },
      "source": [
        "<a href=\"https://colab.research.google.com/github/flecumberry/seys/blob/master/seys_simulacion_sistema.ipynb\" target=\"_parent\"><img src=\"https://colab.research.google.com/assets/colab-badge.svg\" alt=\"Open In Colab\"/></a>"
      ]
    },
    {
      "metadata": {
        "id": "Y8ljy0KnTAMR",
        "colab_type": "text"
      },
      "cell_type": "markdown",
      "source": [
        "# Simulación y verificación de un SLIT\n",
        "Simularemos el sistema propuesto en el ejercicio 10 del práctico 2. Para la simulación nos basaremos en la ecuación en diferencias. Validaremos la salida de la respuesta calculada en el ejercicio comparando contra la salida simulada. Generamos algunas funciones auxiliares.\n",
        "\n",
        "El programa principal comparará la salida a una entrada con la forma de un pulso.\n"
      ]
    },
    {
      "metadata": {
        "id": "aKAo95tJLthV",
        "colab_type": "code",
        "colab": {}
      },
      "cell_type": "code",
      "source": [
        "\"\"\"\n",
        "\n",
        "Señales y Sistemas, 2019. IIE-FIng-Udelar.\n",
        "@author: Federico Lecumberry\n",
        "\n",
        "\"\"\"\n",
        "# Importar funciones necesarias\n",
        "import numpy as np\n",
        "import matplotlib.pyplot as plt\n",
        "\n",
        "# =============================================================================\n",
        "# Escalón (u[n]).\n",
        "# =============================================================================\n",
        "def escalon(n):\n",
        "    return np.heaviside(n,1)\n",
        "\n",
        "# =============================================================================\n",
        "# Retardo (y[n] = x[n-M]).\n",
        "# Se repite el valor en los bordes.\n",
        "# =============================================================================\n",
        "def retardo(x,M):\n",
        "    if M > 0:\n",
        "        y = np.concatenate( (x[0]*np.ones(M), x[0:-M]) )\n",
        "    elif M < 0:\n",
        "        y = np.concatenate( (x[-M:], x[-1]*np.ones(-M)) )\n",
        "\n",
        "    return y\n",
        "\n",
        "# =============================================================================\n",
        "# Pulso (x[n] = 1, 0 <= n <= M-1 y x[n] = 0, para todo otro n)\n",
        "# =============================================================================\n",
        "def pulso( M ):\n",
        "    u0 = escalon( n )\n",
        "    uM = retardo( u0, M )\n",
        "\n",
        "    return (u0 - uM)\n",
        "  \n",
        "# =============================================================================\n",
        "# Graficar la entrada y las salidas calculadas con ambos métodos.\n",
        "# =============================================================================\n",
        "def graficar( n, x, y, z ):\n",
        "    my, sy, by = plt.stem( n, y, ':', label='Salida por ec. dif.' )\n",
        "    mz, sz, bz = plt.stem( n, z, ':', label='Respuesta al pulso' )\n",
        "    mx, sx, bx = plt.stem( n, x, label='Entrada' )\n",
        "    \n",
        "    plt.setp(my, color='b', markersize=6)\n",
        "    plt.setp(mz, color='r', markersize=4)\n",
        "    plt.setp(mx, color='k', markersize=6)\n",
        "    plt.setp(sy, color='k', linewidth=1)\n",
        "    plt.setp(sz, color='k', linewidth=1)\n",
        "    plt.setp(sx, color='k', linewidth=1)\n",
        "    plt.setp(by, color='k', linewidth=1)\n",
        "    plt.setp(bz, color='k', linewidth=1)\n",
        "    plt.setp(bx, color='k', linewidth=1)\n",
        "    plt.legend()\n"
      ],
      "execution_count": 0,
      "outputs": []
    },
    {
      "metadata": {
        "id": "xzT4zKt3UXT0",
        "colab_type": "text"
      },
      "cell_type": "markdown",
      "source": [
        "## Simulación por la ecuación en diferencias\n",
        "La ecuación en diferencia que simularemos modela la carga de una batería en el instante $n$ ($y[n]$):\n",
        "$$y[n]=0.95y[n-1]+x[n]$$\n",
        "De esta forma podemos calcular la respuesta del sistema a *cualquier* señal $x[n]$ con valores nulos para $n<0$.\n",
        "\n",
        "En la práctica, la batería tiene una carga máxima (`carga_max`) más allá de la cuál la batería no aumenta la carga ($y[n]$). Tampoco puede tener una carga negativa, por lo que definiremos una carga mínima (`carga_min`). Estas limitaciones agregan transformaciones **no lineales** que no podemos modelar con las herramientas del curso. Estas restricciones están incluidas en la simulación pero con los parámetros por defecto no tienen efecto."
      ]
    },
    {
      "metadata": {
        "id": "Ir9kROXJUGmw",
        "colab_type": "code",
        "colab": {}
      },
      "cell_type": "code",
      "source": [
        "# =============================================================================\n",
        "# Definición del sistema por su ecuación en diferencias.\n",
        "#\n",
        "# La carga máxima y mínima de la batería no está modelada en la ecuación del \n",
        "# sistema dado que es una no linealidad, sin embargo lo dejamos accesible para \n",
        "# poder ver el efecto.\n",
        "# =============================================================================\n",
        "def sistema_ecuacion_diferencias( x, n ):    \n",
        "    carga_max = 5;\n",
        "    carga_min = 0;\n",
        "    N = np.size(n)\n",
        "    y = np.zeros( N )\n",
        "    for i in range( N ):\n",
        "        if n[i] < 0: \n",
        "            y[i] = 0\n",
        "        else:\n",
        "            temp = 0.95*y[i-1] + x[i];\n",
        "            # Aquí agregamos los límites de la batería.\n",
        "            y[i] = max( carga_min, min( carga_max, temp) )\n",
        "    return y"
      ],
      "execution_count": 0,
      "outputs": []
    },
    {
      "metadata": {
        "id": "4RXMxQT_r1a8",
        "colab_type": "text"
      },
      "cell_type": "markdown",
      "source": [
        "## Cáculo de la respuesta a un escalón\n",
        "Conociendo la respuesta al impulso $$h[n]=0.95^nu[n]$$ podemos calcular de form cerrada la respuesta a una entrada $x[n]$. La expresión de la salida a la entrada $$x[n]=u[n]$$ es $$y[n]=\\frac{1-0.95^{n+1}}{0.05}u[n].$$\n",
        "\n",
        "Esta salida la simulamos en la función `sistema_respuesta_pulso(M,vn)` donde $M$ es el ancho del pulso que comienza en $n=0$ y $vn$ es el vector de tiempos en que se evalúa la salida.\n"
      ]
    },
    {
      "metadata": {
        "id": "0DUdDHPbUPlC",
        "colab_type": "code",
        "colab": {}
      },
      "cell_type": "code",
      "source": [
        "# =============================================================================\n",
        "# Respuesta al pulso. Respuesta calculada a un pulso de ancho M que comienza en\n",
        "# n = 0.\n",
        "# =============================================================================\n",
        "def sistema_respuesta_pulso( M, n ):\n",
        "    N = np.size( n )\n",
        "    z = np.zeros( N )\n",
        "    u0 = escalon( n )\n",
        "    uM = retardo( u0, M )\n",
        "    for i in range( N ):\n",
        "        if n[i] < 0:\n",
        "            z[i] = 0\n",
        "        else:\n",
        "            z[i] = (1-0.95**(n[i]+1))/0.05*u0[i] - (1-0.95**(n[i]+1-M))/0.05*uM[i];\n",
        "    return z"
      ],
      "execution_count": 0,
      "outputs": []
    },
    {
      "metadata": {
        "id": "eQyrhfM7t_BF",
        "colab_type": "text"
      },
      "cell_type": "markdown",
      "source": [
        "## Ejecución del programa\n",
        "La estructura es la siguiente:\n",
        "1. Definir las variables.\n",
        "1. Crear pulso de carga y descarga.\n",
        "1. Armar entrada como combinación lineal de ambos, $x[n]$\n",
        "1. Obtener la salida mediante la simulación con la ecuación en diferencias, $y[n]$\n",
        "1. Obtener la salida mediante (combinación lineal de) la ecuación de respuesta al pulso calculada, $z[n]$.\n",
        "1. Graficar los resultados.\n",
        "\n"
      ]
    },
    {
      "metadata": {
        "id": "x7sQsPUuUR6p",
        "colab_type": "code",
        "outputId": "4409e968-89ac-4f10-c8df-b16bbc1a6ee4",
        "colab": {
          "base_uri": "https://localhost:8080/",
          "height": 347
        }
      },
      "cell_type": "code",
      "source": [
        "# Vector de tiempos. La carga comienza en n=0.\n",
        "n = np.arange(-5, 60)\n",
        "\n",
        "# Tiempo (ancho del pulso) de carga de la batería.\n",
        "# Mc = 10\n",
        "Mc = 10 #@param {type:\"slider\", min:1, max:20, step:1}\n",
        "\n",
        "# Tiempo (ancho de pulso) de descarga de la batería.\n",
        "Md = 10 #@param {type:\"slider\", min:1, max:20, step:1}\n",
        "\n",
        "# Instante en que comienza la descarga.\n",
        "Mr = 14\n",
        "\n",
        "# Coeficiente para la combinación de pulso de carga y descarga.\n",
        "A = 1\n",
        "B = -0.3\n",
        "\n",
        "# Pulso de carga. Comienza en n = 0 y tiene Mc puntos.\n",
        "xc = pulso(Mc)\n",
        "\n",
        "# Pulso de descarga. Comienza en n = Mr y tiene Md puntos.\n",
        "xd = retardo( pulso( Md ), Mr )\n",
        "\n",
        "# Preparar la entrada como la combinación lineal de una carga y una descarga.\n",
        "x = A*xc + B*xd\n",
        "\n",
        "# Respuesta del sistema calculado por la ecuación en diferencias.\n",
        "y = sistema_ecuacion_diferencias( x, n )\n",
        "\n",
        "# Respuesta del sistema a un pulso calculada. Lo calculamos como la combinación\n",
        "# lineal de salidas a los pulsos.\n",
        "z1 = sistema_respuesta_pulso( Mc, n )\n",
        "z2 = sistema_respuesta_pulso( Md, n )\n",
        "z2 = retardo( z2, Mr )\n",
        "z = A*z1 + B*z2\n",
        "\n",
        "# Graficar\n",
        "graficar( n, x, y, z )"
      ],
      "execution_count": 9,
      "outputs": [
        {
          "output_type": "display_data",
          "data": {
            "image/png": "[encoded data removed]",
            "text/plain": [
              "<Figure size 576x396 with 1 Axes>"
            ]
          },
          "metadata": {
            "tags": []
          }
        }
      ]
    },
    {
      "metadata": {
        "id": "oe5oS9tM3AKs",
        "colab_type": "text"
      },
      "cell_type": "markdown",
      "source": [
        "# Pruebas\n",
        "\n",
        "Variando los parámetros se lleva el sistema a otras situaciones, varias de ellas se pueden interpretar como la respuesta de la batería mientras el modelo se ajuste.\n",
        "\n",
        "* ¿Qué pasa si se descarga durante mucho tiempo?\n",
        "* ¿Qué pasa si se reduce el valor de la `carga_max` de la bateria y el modelo deja de ser válido?\n",
        "\n"
      ]
    }
  ]
}